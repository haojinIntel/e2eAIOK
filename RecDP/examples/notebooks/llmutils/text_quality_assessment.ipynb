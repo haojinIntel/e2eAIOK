{
  "cells": [
    {
      "cell_type": "markdown",
      "source": [
        "# Install pyrecdp from github"
      ],
      "metadata": {
        "id": "hNOO3-I-Tgzd"
      },
      "id": "hNOO3-I-Tgzd"
    },
    {
      "cell_type": "code",
      "execution_count": 3,
      "id": "736fb211-dbe6-4ca9-a1b1-db2cff2d287a",
      "metadata": {
        "id": "736fb211-dbe6-4ca9-a1b1-db2cff2d287a"
      },
      "outputs": [],
      "source": [
        "!pip install 'git+https://github.com/intel/e2eAIOK.git#egg=pyrecdp&subdirectory=RecDP'"
      ]
    },
    {
      "cell_type": "markdown",
      "source": [
        "# Install jdk for pyspark running"
      ],
      "metadata": {
        "id": "Jba8TLMvTn-G"
      },
      "id": "Jba8TLMvTn-G"
    },
    {
      "cell_type": "code",
      "source": [
        "!DEBIAN_FRONTEND=noninteractive apt-get install -y openjdk-8-jre"
      ],
      "metadata": {
        "id": "2aCojHZ6TQJE"
      },
      "id": "2aCojHZ6TQJE",
      "execution_count": null,
      "outputs": []
    },
    {
      "cell_type": "markdown",
      "source": [
        "# Prepare test data"
      ],
      "metadata": {
        "id": "3UMkbvwwT2Vc"
      },
      "id": "3UMkbvwwT2Vc"
    },
    {
      "cell_type": "code",
      "source": [
        "%mkdir -p /content/test_data\n",
        "%cd /content/test_data\n",
        "!wget https://raw.githubusercontent.com/intel/e2eAIOK/main/RecDP/tests/data/llm_data/arxiv_sample_100.jsonl\n",
        "!wget https://raw.githubusercontent.com/intel/e2eAIOK/main/RecDP/tests/data/llm_data/github_sample_50.jsonl\n",
        "!wget https://raw.githubusercontent.com/intel/e2eAIOK/main/RecDP/tests/data/llm_data/tiny_c4_sample.jsonl"
      ],
      "metadata": {
        "id": "d6fX0InLTTXt",
        "colab": {
          "base_uri": "https://localhost:8080/"
        },
        "outputId": "5bfe5601-a634-4467-ca84-d7bd85ccc6bf"
      },
      "id": "d6fX0InLTTXt",
      "execution_count": 5,
      "outputs": [
        {
          "output_type": "stream",
          "name": "stdout",
          "text": [
            "/content/test_data\n",
            "--2023-10-18 09:32:54--  https://raw.githubusercontent.com/intel/e2eAIOK/main/RecDP/tests/data/llm_data/arxiv_sample_100.jsonl\n",
            "Resolving raw.githubusercontent.com (raw.githubusercontent.com)... 185.199.110.133, 185.199.109.133, 185.199.108.133, ...\n",
            "Connecting to raw.githubusercontent.com (raw.githubusercontent.com)|185.199.110.133|:443... connected.\n",
            "HTTP request sent, awaiting response... 200 OK\n",
            "Length: 5799643 (5.5M) [text/plain]\n",
            "Saving to: ‘arxiv_sample_100.jsonl’\n",
            "\n",
            "arxiv_sample_100.js 100%[===================>]   5.53M  --.-KB/s    in 0.03s   \n",
            "\n",
            "2023-10-18 09:32:55 (159 MB/s) - ‘arxiv_sample_100.jsonl’ saved [5799643/5799643]\n",
            "\n",
            "--2023-10-18 09:32:55--  https://raw.githubusercontent.com/intel/e2eAIOK/main/RecDP/tests/data/llm_data/github_sample_50.jsonl\n",
            "Resolving raw.githubusercontent.com (raw.githubusercontent.com)... 185.199.110.133, 185.199.108.133, 185.199.109.133, ...\n",
            "Connecting to raw.githubusercontent.com (raw.githubusercontent.com)|185.199.110.133|:443... connected.\n",
            "HTTP request sent, awaiting response... 200 OK\n",
            "Length: 227913 (223K) [text/plain]\n",
            "Saving to: ‘github_sample_50.jsonl’\n",
            "\n",
            "github_sample_50.js 100%[===================>] 222.57K  --.-KB/s    in 0.01s   \n",
            "\n",
            "2023-10-18 09:32:55 (16.9 MB/s) - ‘github_sample_50.jsonl’ saved [227913/227913]\n",
            "\n",
            "--2023-10-18 09:32:55--  https://raw.githubusercontent.com/intel/e2eAIOK/main/RecDP/tests/data/llm_data/tiny_c4_sample.jsonl\n",
            "Resolving raw.githubusercontent.com (raw.githubusercontent.com)... 185.199.108.133, 185.199.109.133, 185.199.110.133, ...\n",
            "Connecting to raw.githubusercontent.com (raw.githubusercontent.com)|185.199.108.133|:443... connected.\n",
            "HTTP request sent, awaiting response... 200 OK\n",
            "Length: 1062126 (1.0M) [text/plain]\n",
            "Saving to: ‘tiny_c4_sample.jsonl’\n",
            "\n",
            "tiny_c4_sample.json 100%[===================>]   1.01M  --.-KB/s    in 0.02s   \n",
            "\n",
            "2023-10-18 09:32:56 (48.7 MB/s) - ‘tiny_c4_sample.jsonl’ saved [1062126/1062126]\n",
            "\n"
          ]
        }
      ]
    },
    {
      "cell_type": "markdown",
      "source": [
        "# Import quality classifier function"
      ],
      "metadata": {
        "id": "yAscO0gQWBKa"
      },
      "id": "yAscO0gQWBKa"
    },
    {
      "cell_type": "code",
      "source": [
        "from pyrecdp.primitives.llmutils import quality_classifier_spark, quality_classifier\n",
        "from pyrecdp.core import SparkDataProcessor"
      ],
      "metadata": {
        "id": "QU2vJ3pWWIaF",
        "colab": {
          "base_uri": "https://localhost:8080/",
          "height": 156,
          "referenced_widgets": [
            "bf043c48315f4e00afafc745ac027673",
            "ee567f825e5b4e969fddd2c1bc09d48f",
            "4830ac2b68f44abd955c811d7dc73612",
            "348eaa9ed0bd41b9a17e5ee2c0d5a45f",
            "2f4777ecf3d44f7dbe608ad691120b9e",
            "8b0c06b13dd14b95bafd09e821da7ed1",
            "158b2386438142e3aee81da02baf4e49",
            "6cfdafe0b5ef45b99b114e38a323743d",
            "663f5211ab7449bdba1de6dcc564a697",
            "9bb9a51d25264db297e25ba6144de0ff",
            "41cf1ea7c927404fa643ea0203a6fd65"
          ]
        },
        "outputId": "a046cb3a-91a4-45ab-ed09-ce66198c716d"
      },
      "id": "QU2vJ3pWWIaF",
      "execution_count": 8,
      "outputs": [
        {
          "output_type": "stream",
          "name": "stdout",
          "text": [
            "JAVA_HOME is not set, use default value of /usr/lib/jvm/java-8-openjdk-amd64/\n"
          ]
        },
        {
          "output_type": "display_data",
          "data": {
            "text/html": [
              "\n",
              "\t\t\t<script type=\"text/javascript\">\n",
              "\t\t\t<!--\n",
              "\t\t\t\t\n",
              "\t\t\t{\n",
              "\t\t\t\tvar element = document.getElementById('NetworKit_script');\n",
              "\t\t\t\tif (element) {\n",
              "\t\t\t\t\telement.parentNode.removeChild(element);\n",
              "\t\t\t\t}\n",
              "\t\t\t\telement = document.createElement('script');\n",
              "\t\t\t\telement.type = 'text/javascript';\n",
              "\t\t\t\telement.innerHTML = 'function NetworKit_pageEmbed(id) { var i, j; var elements; elements = document.getElementById(id).getElementsByClassName(\"Plot\"); for (i=0; i<elements.length; i++) { elements[i].id = id + \"_Plot_\" + i; var data = elements[i].getAttribute(\"data-image\").split(\"|\"); elements[i].removeAttribute(\"data-image\"); var content = \"<div class=\\\\\"Image\\\\\" id=\\\\\"\" + elements[i].id + \"_Image\\\\\" />\"; elements[i].innerHTML = content; elements[i].setAttribute(\"data-image-index\", 0); elements[i].setAttribute(\"data-image-length\", data.length); for (j=0; j<data.length; j++) { elements[i].setAttribute(\"data-image-\" + j, data[j]); } NetworKit_plotUpdate(elements[i]); elements[i].onclick = function (e) { NetworKit_overlayShow((e.target) ? e.target : e.srcElement); } } elements = document.getElementById(id).getElementsByClassName(\"HeatCell\"); for (i=0; i<elements.length; i++) { var data = parseFloat(elements[i].getAttribute(\"data-heat\")); var color = \"#00FF00\"; if (data <= 1 && data > 0) { color = \"hsla(0, 100%, 75%, \" + (data) + \")\"; } else if (data <= 0 && data >= -1) { color = \"hsla(240, 100%, 75%, \" + (-data) + \")\"; } elements[i].style.backgroundColor = color; } elements = document.getElementById(id).getElementsByClassName(\"Details\"); for (i=0; i<elements.length; i++) { elements[i].setAttribute(\"data-title\", \"-\"); NetworKit_toggleDetails(elements[i]); elements[i].onclick = function (e) { NetworKit_toggleDetails((e.target) ? e.target : e.srcElement); } } elements = document.getElementById(id).getElementsByClassName(\"MathValue\"); for (i=elements.length-1; i>=0; i--) { value = elements[i].innerHTML.trim(); if (value === \"nan\") { elements[i].parentNode.innerHTML = \"\" } } elements = document.getElementById(id).getElementsByClassName(\"SubCategory\"); for (i=elements.length-1; i>=0; i--) { value = elements[i].innerHTML.trim(); if (value === \"\") { elements[i].parentNode.removeChild(elements[i]) } } elements = document.getElementById(id).getElementsByClassName(\"Category\"); for (i=elements.length-1; i>=0; i--) { value = elements[i].innerHTML.trim(); if (value === \"\") { elements[i].parentNode.removeChild(elements[i]) } } var isFirefox = false; try { isFirefox = typeof InstallTrigger !== \"undefined\"; } catch (e) {} if (!isFirefox) { alert(\"Currently the function\\'s output is only fully supported by Firefox.\"); } } function NetworKit_plotUpdate(source) { var index = source.getAttribute(\"data-image-index\"); var data = source.getAttribute(\"data-image-\" + index); var image = document.getElementById(source.id + \"_Image\"); image.style.backgroundImage = \"url(\" + data + \")\"; } function NetworKit_showElement(id, show) { var element = document.getElementById(id); element.style.display = (show) ? \"block\" : \"none\"; } function NetworKit_overlayShow(source) { NetworKit_overlayUpdate(source); NetworKit_showElement(\"NetworKit_Overlay\", true); } function NetworKit_overlayUpdate(source) { document.getElementById(\"NetworKit_Overlay_Title\").innerHTML = source.title; var index = source.getAttribute(\"data-image-index\"); var data = source.getAttribute(\"data-image-\" + index); var image = document.getElementById(\"NetworKit_Overlay_Image\"); image.setAttribute(\"data-id\", source.id); image.style.backgroundImage = \"url(\" + data + \")\"; var link = document.getElementById(\"NetworKit_Overlay_Toolbar_Bottom_Save\"); link.href = data; link.download = source.title + \".svg\"; } function NetworKit_overlayImageShift(delta) { var image = document.getElementById(\"NetworKit_Overlay_Image\"); var source = document.getElementById(image.getAttribute(\"data-id\")); var index = parseInt(source.getAttribute(\"data-image-index\")); var length = parseInt(source.getAttribute(\"data-image-length\")); var index = (index+delta) % length; if (index < 0) { index = length + index; } source.setAttribute(\"data-image-index\", index); NetworKit_overlayUpdate(source); } function NetworKit_toggleDetails(source) { var childs = source.children; var show = false; if (source.getAttribute(\"data-title\") == \"-\") { source.setAttribute(\"data-title\", \"+\"); show = false; } else { source.setAttribute(\"data-title\", \"-\"); show = true; } for (i=0; i<childs.length; i++) { if (show) { childs[i].style.display = \"block\"; } else { childs[i].style.display = \"none\"; } } }';\n",
              "\t\t\t\telement.setAttribute('id', 'NetworKit_script');\n",
              "\t\t\t\tdocument.head.appendChild(element);\n",
              "\t\t\t}\n",
              "\t\t\n",
              "\t\t\t\t\n",
              "\t\t\t{\n",
              "\t\t\t\tvar element = document.getElementById('NetworKit_style');\n",
              "\t\t\t\tif (element) {\n",
              "\t\t\t\t\telement.parentNode.removeChild(element);\n",
              "\t\t\t\t}\n",
              "\t\t\t\telement = document.createElement('style');\n",
              "\t\t\t\telement.type = 'text/css';\n",
              "\t\t\t\telement.innerHTML = '.NetworKit_Page { font-family: Arial, Helvetica, sans-serif; font-size: 14px; } .NetworKit_Page .Value:before { font-family: Arial, Helvetica, sans-serif; font-size: 1.05em; content: attr(data-title) \":\"; margin-left: -2.5em; padding-right: 0.5em; } .NetworKit_Page .Details .Value:before { display: block; } .NetworKit_Page .Value { font-family: monospace; white-space: pre; padding-left: 2.5em; white-space: -moz-pre-wrap !important; white-space: -pre-wrap; white-space: -o-pre-wrap; white-space: pre-wrap; word-wrap: break-word; tab-size: 4; -moz-tab-size: 4; } .NetworKit_Page .Category { clear: both; padding-left: 1em; margin-bottom: 1.5em; } .NetworKit_Page .Category:before { content: attr(data-title); font-size: 1.75em; display: block; margin-left: -0.8em; margin-bottom: 0.5em; } .NetworKit_Page .SubCategory { margin-bottom: 1.5em; padding-left: 1em; } .NetworKit_Page .SubCategory:before { font-size: 1.6em; display: block; margin-left: -0.8em; margin-bottom: 0.5em; } .NetworKit_Page .SubCategory[data-title]:before { content: attr(data-title); } .NetworKit_Page .Block { display: block; } .NetworKit_Page .Block:after { content: \".\"; visibility: hidden; display: block; height: 0; clear: both; } .NetworKit_Page .Block .Thumbnail_Overview, .NetworKit_Page .Block .Thumbnail_ScatterPlot { width: 260px; float: left; } .NetworKit_Page .Block .Thumbnail_Overview img, .NetworKit_Page .Block .Thumbnail_ScatterPlot img { width: 260px; } .NetworKit_Page .Block .Thumbnail_Overview:before, .NetworKit_Page .Block .Thumbnail_ScatterPlot:before { display: block; text-align: center; font-weight: bold; } .NetworKit_Page .Block .Thumbnail_Overview:before { content: attr(data-title); } .NetworKit_Page .HeatCell { font-family: \"Courier New\", Courier, monospace; cursor: pointer; } .NetworKit_Page .HeatCell, .NetworKit_Page .HeatCellName { display: inline; padding: 0.1em; margin-right: 2px; background-color: #FFFFFF } .NetworKit_Page .HeatCellName { margin-left: 0.25em; } .NetworKit_Page .HeatCell:before { content: attr(data-heat); display: inline-block; color: #000000; width: 4em; text-align: center; } .NetworKit_Page .Measure { clear: both; } .NetworKit_Page .Measure .Details { cursor: pointer; } .NetworKit_Page .Measure .Details:before { content: \"[\" attr(data-title) \"]\"; display: block; } .NetworKit_Page .Measure .Details .Value { border-left: 1px dotted black; margin-left: 0.4em; padding-left: 3.5em; pointer-events: none; } .NetworKit_Page .Measure .Details .Spacer:before { content: \".\"; opacity: 0.0; pointer-events: none; } .NetworKit_Page .Measure .Plot { width: 440px; height: 440px; cursor: pointer; float: left; margin-left: -0.9em; margin-right: 20px; } .NetworKit_Page .Measure .Plot .Image { background-repeat: no-repeat; background-position: center center; background-size: contain; height: 100%; pointer-events: none; } .NetworKit_Page .Measure .Stat { width: 500px; float: left; } .NetworKit_Page .Measure .Stat .Group { padding-left: 1.25em; margin-bottom: 0.75em; } .NetworKit_Page .Measure .Stat .Group .Title { font-size: 1.1em; display: block; margin-bottom: 0.3em; margin-left: -0.75em; border-right-style: dotted; border-right-width: 1px; border-bottom-style: dotted; border-bottom-width: 1px; background-color: #D0D0D0; padding-left: 0.2em; } .NetworKit_Page .Measure .Stat .Group .List { -webkit-column-count: 3; -moz-column-count: 3; column-count: 3; } .NetworKit_Page .Measure .Stat .Group .List .Entry { position: relative; line-height: 1.75em; } .NetworKit_Page .Measure .Stat .Group .List .Entry[data-tooltip]:before { position: absolute; left: 0; top: -40px; background-color: #808080; color: #ffffff; height: 30px; line-height: 30px; border-radius: 5px; padding: 0 15px; content: attr(data-tooltip); white-space: nowrap; display: none; } .NetworKit_Page .Measure .Stat .Group .List .Entry[data-tooltip]:after { position: absolute; left: 15px; top: -10px; border-top: 7px solid #808080; border-left: 7px solid transparent; border-right: 7px solid transparent; content: \"\"; display: none; } .NetworKit_Page .Measure .Stat .Group .List .Entry[data-tooltip]:hover:after, .NetworKit_Page .Measure .Stat .Group .List .Entry[data-tooltip]:hover:before { display: block; } .NetworKit_Page .Measure .Stat .Group .List .Entry .MathValue { font-family: \"Courier New\", Courier, monospace; } .NetworKit_Page .Measure:after { content: \".\"; visibility: hidden; display: block; height: 0; clear: both; } .NetworKit_Page .PartitionPie { clear: both; } .NetworKit_Page .PartitionPie img { width: 600px; } #NetworKit_Overlay { left: 0px; top: 0px; display: none; position: absolute; width: 100%; height: 100%; background-color: rgba(0,0,0,0.6); z-index: 1000; } #NetworKit_Overlay_Title { position: absolute; color: white; transform: rotate(-90deg); width: 32em; height: 32em; padding-right: 0.5em; padding-top: 0.5em; text-align: right; font-size: 40px; } #NetworKit_Overlay .button { background: white; cursor: pointer; } #NetworKit_Overlay .button:before { size: 13px; display: inline-block; text-align: center; margin-top: 0.5em; margin-bottom: 0.5em; width: 1.5em; height: 1.5em; } #NetworKit_Overlay .icon-close:before { content: \"X\"; } #NetworKit_Overlay .icon-previous:before { content: \"P\"; } #NetworKit_Overlay .icon-next:before { content: \"N\"; } #NetworKit_Overlay .icon-save:before { content: \"S\"; } #NetworKit_Overlay_Toolbar_Top, #NetworKit_Overlay_Toolbar_Bottom { position: absolute; width: 40px; right: 13px; text-align: right; z-index: 1100; } #NetworKit_Overlay_Toolbar_Top { top: 0.5em; } #NetworKit_Overlay_Toolbar_Bottom { Bottom: 0.5em; } #NetworKit_Overlay_ImageContainer { position: absolute; top: 5%; left: 5%; height: 90%; width: 90%; background-repeat: no-repeat; background-position: center center; background-size: contain; } #NetworKit_Overlay_Image { height: 100%; width: 100%; background-repeat: no-repeat; background-position: center center; background-size: contain; }';\n",
              "\t\t\t\telement.setAttribute('id', 'NetworKit_style');\n",
              "\t\t\t\tdocument.head.appendChild(element);\n",
              "\t\t\t}\n",
              "\t\t\n",
              "\t\t\t\t\n",
              "\t\t\t{\n",
              "\t\t\t\tvar element = document.getElementById('NetworKit_Overlay');\n",
              "\t\t\t\tif (element) {\n",
              "\t\t\t\t\telement.parentNode.removeChild(element);\n",
              "\t\t\t\t}\n",
              "\t\t\t\telement = document.createElement('div');\n",
              "\t\t\t\telement.innerHTML = '<div id=\"NetworKit_Overlay_Toolbar_Top\"><div class=\"button icon-close\" id=\"NetworKit_Overlay_Close\" /></div><div id=\"NetworKit_Overlay_Title\" /> <div id=\"NetworKit_Overlay_ImageContainer\"> <div id=\"NetworKit_Overlay_Image\" /> </div> <div id=\"NetworKit_Overlay_Toolbar_Bottom\"> <div class=\"button icon-previous\" onclick=\"NetworKit_overlayImageShift(-1)\" /> <div class=\"button icon-next\" onclick=\"NetworKit_overlayImageShift(1)\" /> <a id=\"NetworKit_Overlay_Toolbar_Bottom_Save\"><div class=\"button icon-save\" /></a> </div>';\n",
              "\t\t\t\telement.setAttribute('id', 'NetworKit_Overlay');\n",
              "\t\t\t\tdocument.body.appendChild(element);\n",
              "\t\t\t\tdocument.getElementById('NetworKit_Overlay_Close').onclick = function (e) {\n",
              "\t\t\t\t\tdocument.getElementById('NetworKit_Overlay').style.display = 'none';\n",
              "\t\t\t\t}\n",
              "\t\t\t}\n",
              "\t\t\n",
              "\t\t\t-->\n",
              "\t\t\t</script>\n",
              "\t\t"
            ]
          },
          "metadata": {}
        },
        {
          "output_type": "stream",
          "name": "stderr",
          "text": [
            "/usr/local/lib/python3.10/dist-packages/pyspark/pandas/__init__.py:50: UserWarning: 'PYARROW_IGNORE_TIMEZONE' environment variable was not set. It is required to set this environment variable to '1' in both driver and executor sides if you use pyarrow>=2.0.0. pandas-on-Spark will set it for you but it does not work if there is a Spark context already launched.\n",
            "  warnings.warn(\n",
            "The cache for model files in Transformers v4.22.0 has been updated. Migrating your old cache. This is a one-time only operation. You can interrupt this and resume the migration later on by calling `transformers.utils.move_cache()`.\n"
          ]
        },
        {
          "output_type": "stream",
          "name": "stdout",
          "text": [
            "Moving 0 files to the new cache system\n"
          ]
        },
        {
          "output_type": "display_data",
          "data": {
            "text/plain": [
              "0it [00:00, ?it/s]"
            ],
            "application/vnd.jupyter.widget-view+json": {
              "version_major": 2,
              "version_minor": 0,
              "model_id": "bf043c48315f4e00afafc745ac027673"
            }
          },
          "metadata": {}
        }
      ]
    },
    {
      "cell_type": "markdown",
      "source": [
        "# Specify variables"
      ],
      "metadata": {
        "id": "Y248QUCGWUeL"
      },
      "id": "Y248QUCGWUeL"
    },
    {
      "cell_type": "code",
      "source": [
        "arxiv_data_file = '/content/test_data/arxiv_sample_100.jsonl'\n",
        "github_data_file = '/content/test_data/github_sample_50.jsonl'\n",
        "c4_data_file = '/content/test_data/tiny_c4_sample.jsonl'\n",
        "arxiv_save_path = '/content/test_data/output/quality_classifier_arxiv'\n",
        "github_save_path = '/content/test_data/output/quality_classifier_github'\n",
        "c4_save_path = '/content/test_data/output/quality_classifier_c4'"
      ],
      "metadata": {
        "id": "Oe9BDy0xWiVz"
      },
      "id": "Oe9BDy0xWiVz",
      "execution_count": 6,
      "outputs": []
    },
    {
      "cell_type": "markdown",
      "source": [
        "# Load data"
      ],
      "metadata": {
        "id": "UBhY9MxDYFN3"
      },
      "id": "UBhY9MxDYFN3"
    },
    {
      "cell_type": "code",
      "source": [
        "rdp = SparkDataProcessor()\n",
        "spark = rdp.spark\n",
        "arxiv_spark_df = spark.read.json(arxiv_data_file)\n",
        "github_spark_df = spark.read.json(github_data_file)\n",
        "c4_spark_df = spark.read.json(c4_data_file)\n",
        "arxiv_spark_df.show()\n",
        "github_spark_df.show()\n",
        "c4_spark_df.show()"
      ],
      "metadata": {
        "colab": {
          "base_uri": "https://localhost:8080/"
        },
        "id": "C_lfGGQOYD3F",
        "outputId": "c216abb7-cd3e-4998-dfcd-420b0b418240"
      },
      "id": "C_lfGGQOYD3F",
      "execution_count": 9,
      "outputs": [
        {
          "output_type": "stream",
          "name": "stdout",
          "text": [
            "Will assign 1 cores and 10386 M memory for spark\n",
            "per core memory size is 10.143 GB and shuffle_disk maximum capacity is 8589934592.000 GB\n",
            "+--------------------+--------------------+\n",
            "|                meta|                text|\n",
            "+--------------------+--------------------+\n",
            "|{2203.15369, en, ...|\\section{Introduc...|\n",
            "|{math/9807097, en...|\\section{Introduc...|\n",
            "|{2008.06948, en, ...|\\section{Introduc...|\n",
            "|{cond-mat/9807071...|\\section{Introduc...|\n",
            "|{2210.10650, en, ...|\\section{\\label{s...|\n",
            "|{astro-ph/9807119...|\\section{Introduc...|\n",
            "|{2111.03152, en, ...|\\section{Introduc...|\n",
            "|{1606.04992, en, ...|\\n\\n\\section{Intr...|\n",
            "|{1608.03404, en, ...|\\section{introduc...|\n",
            "|{1904.10101, en, ...|\\section{Introduc...|\n",
            "|{cond-mat/9807275...|\\section{Introduc...|\n",
            "|{2109.05334, en, ...|\\section{Introduc...|\n",
            "|{1512.06966, en, ...|\\section{Introduc...|\n",
            "|{2112.04926, en, ...|\\section{Introduc...|\n",
            "|{2202.01000, en, ...|\\section{Introduc...|\n",
            "|{2209.13421, en, ...|\\section{Introduc...|\n",
            "|{1103.5603, en, 2...|\\section{Introduc...|\n",
            "|{1001.3679, en, 2...|\\section{Introduc...|\n",
            "|{1702.08222, en, ...|\\section{Introduc...|\n",
            "|{2201.05495, en, ...|\\section{Introduc...|\n",
            "+--------------------+--------------------+\n",
            "only showing top 20 rows\n",
            "\n",
            "+--------------------+--------------------+\n",
            "|                meta|                text|\n",
            "+--------------------+--------------------+\n",
            "|{0.56018518518518...|var videoState={\\...|\n",
            "|{0.70191657271702...|package mts\\n\\n//...|\n",
            "|{0.64325842696629...|<!DOCTYPE html>\\n...|\n",
            "|{0.75634249471458...|import os\\nfrom f...|\n",
            "|{0.66844919786096...|/*\\n *  String ha...|\n",
            "|{0.67960288808664...|--TEST--\\nRunkit_...|\n",
            "|{0.71548238012709...|\\npackage org.cod...|\n",
            "|{0.57818696883852...|// --------------...|\n",
            "|{0.75514403292181...|import { VGrid } ...|\n",
            "|{0.80433734939759...|layout: page\\ntit...|\n",
            "|{0.66129032258064...|namespace igl\\n{\\...|\n",
            "|{0.74906367041198...|/*___Generated_by...|\n",
            "|{0.49236603133419...|<?php\\n\\nnamespac...|\n",
            "|{0.72675077434464...|\\n\\npackage org.a...|\n",
            "|{0.79473684210526...|set -e\\ngit clone...|\n",
            "|{0.70454804513849...|\\npackage au.net....|\n",
            "|{0.57749983629100...|(function(root) {...|\n",
            "|{0.71447368421052...|package jugsaar12...|\n",
            "|{0.66504854368932...|import pyxb.bindi...|\n",
            "|{0.73843700159489...|using System;\\nus...|\n",
            "+--------------------+--------------------+\n",
            "only showing top 20 rows\n",
            "\n",
            "+--------------------+--------------------+\n",
            "|                meta|                text|\n",
            "+--------------------+--------------------+\n",
            "|{\"timestamp\":\"201...|lorazepam nombre ...|\n",
            "|{\"timestamp\":\"201...|It is possible to...|\n",
            "|{\"timestamp\":\"201...|Canon PIXMA TS952...|\n",
            "|{\"timestamp\":\"201...|For those who pla...|\n",
            "|{\"timestamp\":\"201...|After tipping 25 ...|\n",
            "|{\"timestamp\":\"201...|When cute redhead...|\n",
            "|{\"timestamp\":\"201...|Description: Deco...|\n",
            "|{\"timestamp\":\"201...|Download BustedBo...|\n",
            "|{\"timestamp\":\"201...|Judah Ben-Hur liv...|\n",
            "|{\"timestamp\":\"201...|Beneath you can s...|\n",
            "|{\"timestamp\":\"201...|It’s Day 11, and ...|\n",
            "|{\"timestamp\":\"201...|KATALEIYA . LaraE...|\n",
            "|{\"timestamp\":\"201...|Adhesive furnitur...|\n",
            "|{\"timestamp\":\"201...|HD Wetting accept...|\n",
            "|{\"timestamp\":\"201...|Iryna Sysoenko, P...|\n",
            "|{\"timestamp\":\"201...|Hi. My name is Ha...|\n",
            "|{\"timestamp\":\"201...|This client got s...|\n",
            "|{\"timestamp\":\"201...|Principles and go...|\n",
            "|{\"timestamp\":\"201...|From I-275 North,...|\n",
            "|{\"timestamp\":\"201...|After tipping 25 ...|\n",
            "+--------------------+--------------------+\n",
            "only showing top 20 rows\n",
            "\n"
          ]
        }
      ]
    },
    {
      "cell_type": "markdown",
      "source": [
        "# Process the 'text' column and generate doc score which will determine whether the row kept or not(spark dataframe interface)"
      ],
      "metadata": {
        "id": "AQELlnB5WyeX"
      },
      "id": "AQELlnB5WyeX"
    },
    {
      "cell_type": "code",
      "source": [
        "arxiv_quality_classifier_df = quality_classifier_spark(arxiv_spark_df)\n",
        "github_quality_classifier_df = quality_classifier_spark(github_spark_df)\n",
        "c4_quality_classifier_df = quality_classifier_spark(c4_spark_df)\n",
        "arxiv_quality_classifier_df.show()\n",
        "github_quality_classifier_df.show()\n",
        "c4_quality_classifier_df.show()"
      ],
      "metadata": {
        "colab": {
          "base_uri": "https://localhost:8080/"
        },
        "id": "EgGPeSVZWwzZ",
        "outputId": "494e69ae-7300-4c44-d9a9-a37d80618399"
      },
      "id": "EgGPeSVZWwzZ",
      "execution_count": 10,
      "outputs": [
        {
          "output_type": "stream",
          "name": "stderr",
          "text": [
            "\u001b[32m2023-10-18 09:43:22.259\u001b[0m | \u001b[1mINFO    \u001b[0m | \u001b[36mpyrecdp.primitives.operations.text_qualityscorer\u001b[0m:\u001b[36mprepare_model\u001b[0m:\u001b[36m122\u001b[0m - \u001b[1mPreparing scorer model in [/root/.cache/recdp/models/gpt3_quality_model]...\u001b[0m\n"
          ]
        },
        {
          "output_type": "stream",
          "name": "stdout",
          "text": [
            "model_name is gpt3\n"
          ]
        },
        {
          "output_type": "stream",
          "name": "stderr",
          "text": [
            "\u001b[32m2023-10-18 09:43:37.375\u001b[0m | \u001b[1mINFO    \u001b[0m | \u001b[36mpyrecdp.primitives.operations.text_qualityscorer\u001b[0m:\u001b[36mpredict\u001b[0m:\u001b[36m252\u001b[0m - \u001b[1mStart scoring dataset...\u001b[0m\n",
            "\u001b[32m2023-10-18 09:43:39.806\u001b[0m | \u001b[1mINFO    \u001b[0m | \u001b[36mpyrecdp.primitives.operations.text_qualityscorer\u001b[0m:\u001b[36mprepare_model\u001b[0m:\u001b[36m122\u001b[0m - \u001b[1mPreparing scorer model in [/root/.cache/recdp/models/gpt3_quality_model]...\u001b[0m\n"
          ]
        },
        {
          "output_type": "stream",
          "name": "stdout",
          "text": [
            "model_name is gpt3\n",
            "real_model_path is /root/.cache/recdp/models/gpt3_quality_model\n"
          ]
        },
        {
          "output_type": "stream",
          "name": "stderr",
          "text": [
            "\u001b[32m2023-10-18 09:43:42.215\u001b[0m | \u001b[1mINFO    \u001b[0m | \u001b[36mpyrecdp.primitives.operations.text_qualityscorer\u001b[0m:\u001b[36mpredict\u001b[0m:\u001b[36m252\u001b[0m - \u001b[1mStart scoring dataset...\u001b[0m\n",
            "\u001b[32m2023-10-18 09:43:42.965\u001b[0m | \u001b[1mINFO    \u001b[0m | \u001b[36mpyrecdp.primitives.operations.text_qualityscorer\u001b[0m:\u001b[36mprepare_model\u001b[0m:\u001b[36m122\u001b[0m - \u001b[1mPreparing scorer model in [/root/.cache/recdp/models/gpt3_quality_model]...\u001b[0m\n"
          ]
        },
        {
          "output_type": "stream",
          "name": "stdout",
          "text": [
            "model_name is gpt3\n",
            "real_model_path is /root/.cache/recdp/models/gpt3_quality_model\n"
          ]
        },
        {
          "output_type": "stream",
          "name": "stderr",
          "text": [
            "\u001b[32m2023-10-18 09:43:45.020\u001b[0m | \u001b[1mINFO    \u001b[0m | \u001b[36mpyrecdp.primitives.operations.text_qualityscorer\u001b[0m:\u001b[36mpredict\u001b[0m:\u001b[36m252\u001b[0m - \u001b[1mStart scoring dataset...\u001b[0m\n"
          ]
        },
        {
          "output_type": "stream",
          "name": "stdout",
          "text": [
            "+--------------------+--------------------+--------------------+-----------+\n",
            "|                meta|                text|           doc_score|should_keep|\n",
            "+--------------------+--------------------+--------------------+-----------+\n",
            "|{2203.15369, en, ...|\\section{Introduc...|  0.9999999999996102|          1|\n",
            "|{math/9807097, en...|\\section{Introduc...|                 1.0|          1|\n",
            "|{2008.06948, en, ...|\\section{Introduc...|  0.9015197498942397|          1|\n",
            "|{cond-mat/9807071...|\\section{Introduc...|    0.99971976667992|          1|\n",
            "|{2210.10650, en, ...|\\section{\\label{s...|                 1.0|          1|\n",
            "|{astro-ph/9807119...|\\section{Introduc...|0.001319136449002...|          0|\n",
            "|{2111.03152, en, ...|\\section{Introduc...|                 0.0|          0|\n",
            "|{1606.04992, en, ...|\\n\\n\\section{Intr...|                 1.0|          1|\n",
            "|{1608.03404, en, ...|\\section{introduc...|                 1.0|          1|\n",
            "|{1904.10101, en, ...|\\section{Introduc...|  0.9999979720467516|          1|\n",
            "|{cond-mat/9807275...|\\section{Introduc...|                 1.0|          1|\n",
            "|{2109.05334, en, ...|\\section{Introduc...|3.005982129877793...|          0|\n",
            "|{1512.06966, en, ...|\\section{Introduc...|  0.9999752338514555|          1|\n",
            "|{2112.04926, en, ...|\\section{Introduc...|  0.9999998492093729|          1|\n",
            "|{2202.01000, en, ...|\\section{Introduc...|                 1.0|          1|\n",
            "|{2209.13421, en, ...|\\section{Introduc...|                 1.0|          1|\n",
            "|{1103.5603, en, 2...|\\section{Introduc...|  0.9999999999995527|          1|\n",
            "|{1001.3679, en, 2...|\\section{Introduc...|                 0.0|          0|\n",
            "|{1702.08222, en, ...|\\section{Introduc...|  0.9999988629258854|          1|\n",
            "|{2201.05495, en, ...|\\section{Introduc...|5.299151714099892E-7|          0|\n",
            "+--------------------+--------------------+--------------------+-----------+\n",
            "only showing top 20 rows\n",
            "\n",
            "+--------------------+--------------------+--------------------+-----------+\n",
            "|                meta|                text|           doc_score|should_keep|\n",
            "+--------------------+--------------------+--------------------+-----------+\n",
            "|{0.56018518518518...|var videoState={\\...| 0.23198771266591212|          0|\n",
            "|{0.70191657271702...|package mts\\n\\n//...|6.406042963582603E-4|          0|\n",
            "|{0.64325842696629...|<!DOCTYPE html>\\n...|  0.9616878579910139|          1|\n",
            "|{0.75634249471458...|import os\\nfrom f...| 0.36697236561297497|          0|\n",
            "|{0.66844919786096...|/*\\n *  String ha...|4.525836236551894...|          0|\n",
            "|{0.67960288808664...|--TEST--\\nRunkit_...| 0.12882876416558442|          0|\n",
            "|{0.71548238012709...|\\npackage org.cod...|  0.9993672095163542|          1|\n",
            "|{0.57818696883852...|// --------------...|  0.9855589272690102|          1|\n",
            "|{0.75514403292181...|import { VGrid } ...|  0.7943241964752377|          0|\n",
            "|{0.80433734939759...|layout: page\\ntit...| 3.05427607952824E-4|          0|\n",
            "|{0.66129032258064...|namespace igl\\n{\\...|  0.9802222702664549|          1|\n",
            "|{0.74906367041198...|/*___Generated_by...|  0.9261223853918582|          0|\n",
            "|{0.49236603133419...|<?php\\n\\nnamespac...|5.703703983561681E-6|          0|\n",
            "|{0.72675077434464...|\\n\\npackage org.a...|  0.9999999803580646|          1|\n",
            "|{0.79473684210526...|set -e\\ngit clone...|  0.8561691532895712|          0|\n",
            "|{0.70454804513849...|\\npackage au.net....|  0.9824840261021573|          1|\n",
            "|{0.57749983629100...|(function(root) {...|6.963540855053907...|          0|\n",
            "|{0.71447368421052...|package jugsaar12...|  0.9293293381250166|          0|\n",
            "|{0.66504854368932...|import pyxb.bindi...| 0.03953046431048424|          0|\n",
            "|{0.73843700159489...|using System;\\nus...|  0.9960082942166574|          1|\n",
            "+--------------------+--------------------+--------------------+-----------+\n",
            "only showing top 20 rows\n",
            "\n",
            "+--------------------+--------------------+-------------------+-----------+\n",
            "|                meta|                text|          doc_score|should_keep|\n",
            "+--------------------+--------------------+-------------------+-----------+\n",
            "|{\"timestamp\":\"201...|lorazepam nombre ...|0.13953399920813647|          0|\n",
            "|{\"timestamp\":\"201...|It is possible to...|  0.999996696475262|          1|\n",
            "|{\"timestamp\":\"201...|Canon PIXMA TS952...| 0.9411160312525231|          1|\n",
            "|{\"timestamp\":\"201...|For those who pla...| 0.9997652430592056|          1|\n",
            "|{\"timestamp\":\"201...|After tipping 25 ...| 0.9391186504929446|          0|\n",
            "|{\"timestamp\":\"201...|When cute redhead...| 0.9073679617447061|          0|\n",
            "|{\"timestamp\":\"201...|Description: Deco...| 0.9922768632514606|          1|\n",
            "|{\"timestamp\":\"201...|Download BustedBo...| 0.9968406887153765|          1|\n",
            "|{\"timestamp\":\"201...|Judah Ben-Hur liv...|  0.995036231869104|          1|\n",
            "|{\"timestamp\":\"201...|Beneath you can s...| 0.9835539793036427|          1|\n",
            "|{\"timestamp\":\"201...|It’s Day 11, and ...| 0.9419567546346509|          0|\n",
            "|{\"timestamp\":\"201...|KATALEIYA . LaraE...| 0.9896749686603173|          1|\n",
            "|{\"timestamp\":\"201...|Adhesive furnitur...| 0.9936911011850885|          1|\n",
            "|{\"timestamp\":\"201...|HD Wetting accept...|    0.9008702704084|          1|\n",
            "|{\"timestamp\":\"201...|Iryna Sysoenko, P...| 0.9997679592437031|          1|\n",
            "|{\"timestamp\":\"201...|Hi. My name is Ha...| 0.9711533591263501|          1|\n",
            "|{\"timestamp\":\"201...|This client got s...| 0.9723174415833891|          1|\n",
            "|{\"timestamp\":\"201...|Principles and go...| 0.9999080320943323|          1|\n",
            "|{\"timestamp\":\"201...|From I-275 North,...| 0.9924305286140855|          1|\n",
            "|{\"timestamp\":\"201...|After tipping 25 ...|  0.954944343963536|          1|\n",
            "+--------------------+--------------------+-------------------+-----------+\n",
            "only showing top 20 rows\n",
            "\n"
          ]
        }
      ]
    },
    {
      "cell_type": "code",
      "source": [
        "arxiv_quality_classifier_pd = arxiv_quality_classifier_df.toPandas()\n",
        "github_quality_classifier_pd = github_quality_classifier_df.toPandas()\n",
        "c4_quality_classifier_pd = c4_quality_classifier_df.toPandas()"
      ],
      "metadata": {
        "id": "CGy0M6IPLXN8"
      },
      "id": "CGy0M6IPLXN8",
      "execution_count": 14,
      "outputs": []
    },
    {
      "cell_type": "code",
      "source": [
        "from pandas import DataFrame\n",
        "score_df = DataFrame(dict(arxiv_quality_score = arxiv_quality_classifier_pd[\"doc_score\"].head(50).sort_values(ascending=True).reset_index(drop=True),\n",
        "               github_quality_score = github_quality_classifier_pd[\"doc_score\"].head(50).sort_values(ascending=True).reset_index(drop=True),\n",
        "               c4_quality_score = c4_quality_classifier_pd[\"doc_score\"].head(50).sort_values(ascending=True).reset_index(drop=True)))"
      ],
      "metadata": {
        "id": "uY_2lPEztYfG"
      },
      "id": "uY_2lPEztYfG",
      "execution_count": 130,
      "outputs": []
    },
    {
      "cell_type": "markdown",
      "source": [
        "# Display the quality score of different datasets"
      ],
      "metadata": {
        "id": "628-5wxDw7Ax"
      },
      "id": "628-5wxDw7Ax"
    },
    {
      "cell_type": "code",
      "source": [
        "score_df.plot(y=[\"arxiv_quality_score\", \"github_quality_score\", \"c4_quality_score\"], kind=\"line\", title=\"Quality score of datasets\")"
      ],
      "metadata": {
        "id": "-aGEqMQT59v_",
        "colab": {
          "base_uri": "https://localhost:8080/",
          "height": 469
        },
        "outputId": "f6e90ec9-fca8-4ef3-f0a6-2f9a430517e1"
      },
      "id": "-aGEqMQT59v_",
      "execution_count": 134,
      "outputs": [
        {
          "output_type": "execute_result",
          "data": {
            "text/plain": [
              "<Axes: title={'center': 'Quality score of datasets'}>"
            ]
          },
          "metadata": {},
          "execution_count": 134
        },
        {
          "output_type": "display_data",
          "data": {
            "text/plain": [
              "<Figure size 640x480 with 1 Axes>"
            ],
            "image/png": "[encoded data removed]"
          },
          "metadata": {}
        }
      ]
    },
    {
      "cell_type": "code",
      "source": [],
      "metadata": {
        "id": "706GJ2aYszbk"
      },
      "id": "706GJ2aYszbk",
      "execution_count": null,
      "outputs": []
    }
  ],
  "metadata": {
    "kernelspec": {
      "display_name": "Python 3 (ipykernel)",
      "language": "python",
      "name": "python3"
    },
    "language_info": {
      "codemirror_mode": {
        "name": "ipython",
        "version": 3
      },
      "file_extension": ".py",
      "mimetype": "text/x-python",
      "name": "python",
      "nbconvert_exporter": "python",
      "pygments_lexer": "ipython3",
      "version": "3.10.12"
    },
    "colab": {
      "provenance": [],
      "toc_visible": true
    },
    "widgets": {
      "application/vnd.jupyter.widget-state+json": {
        "bf043c48315f4e00afafc745ac027673": {
          "model_module": "@jupyter-widgets/controls",
          "model_name": "HBoxModel",
          "model_module_version": "1.5.0",
          "state": {
            "_dom_classes": [],
            "_model_module": "@jupyter-widgets/controls",
            "_model_module_version": "1.5.0",
            "_model_name": "HBoxModel",
            "_view_count": null,
            "_view_module": "@jupyter-widgets/controls",
            "_view_module_version": "1.5.0",
            "_view_name": "HBoxView",
            "box_style": "",
            "children": [
              "IPY_MODEL_ee567f825e5b4e969fddd2c1bc09d48f",
              "IPY_MODEL_4830ac2b68f44abd955c811d7dc73612",
              "IPY_MODEL_348eaa9ed0bd41b9a17e5ee2c0d5a45f"
            ],
            "layout": "IPY_MODEL_2f4777ecf3d44f7dbe608ad691120b9e"
          }
        },
        "ee567f825e5b4e969fddd2c1bc09d48f": {
          "model_module": "@jupyter-widgets/controls",
          "model_name": "HTMLModel",
          "model_module_version": "1.5.0",
          "state": {
            "_dom_classes": [],
            "_model_module": "@jupyter-widgets/controls",
            "_model_module_version": "1.5.0",
            "_model_name": "HTMLModel",
            "_view_count": null,
            "_view_module": "@jupyter-widgets/controls",
            "_view_module_version": "1.5.0",
            "_view_name": "HTMLView",
            "description": "",
            "description_tooltip": null,
            "layout": "IPY_MODEL_8b0c06b13dd14b95bafd09e821da7ed1",
            "placeholder": "​",
            "style": "IPY_MODEL_158b2386438142e3aee81da02baf4e49",
            "value": ""
          }
        },
        "4830ac2b68f44abd955c811d7dc73612": {
          "model_module": "@jupyter-widgets/controls",
          "model_name": "FloatProgressModel",
          "model_module_version": "1.5.0",
          "state": {
            "_dom_classes": [],
            "_model_module": "@jupyter-widgets/controls",
            "_model_module_version": "1.5.0",
            "_model_name": "FloatProgressModel",
            "_view_count": null,
            "_view_module": "@jupyter-widgets/controls",
            "_view_module_version": "1.5.0",
            "_view_name": "ProgressView",
            "bar_style": "success",
            "description": "",
            "description_tooltip": null,
            "layout": "IPY_MODEL_6cfdafe0b5ef45b99b114e38a323743d",
            "max": 1,
            "min": 0,
            "orientation": "horizontal",
            "style": "IPY_MODEL_663f5211ab7449bdba1de6dcc564a697",
            "value": 0
          }
        },
        "348eaa9ed0bd41b9a17e5ee2c0d5a45f": {
          "model_module": "@jupyter-widgets/controls",
          "model_name": "HTMLModel",
          "model_module_version": "1.5.0",
          "state": {
            "_dom_classes": [],
            "_model_module": "@jupyter-widgets/controls",
            "_model_module_version": "1.5.0",
            "_model_name": "HTMLModel",
            "_view_count": null,
            "_view_module": "@jupyter-widgets/controls",
            "_view_module_version": "1.5.0",
            "_view_name": "HTMLView",
            "description": "",
            "description_tooltip": null,
            "layout": "IPY_MODEL_9bb9a51d25264db297e25ba6144de0ff",
            "placeholder": "​",
            "style": "IPY_MODEL_41cf1ea7c927404fa643ea0203a6fd65",
            "value": " 0/0 [00:00&lt;?, ?it/s]"
          }
        },
        "2f4777ecf3d44f7dbe608ad691120b9e": {
          "model_module": "@jupyter-widgets/base",
          "model_name": "LayoutModel",
          "model_module_version": "1.2.0",
          "state": {
            "_model_module": "@jupyter-widgets/base",
            "_model_module_version": "1.2.0",
            "_model_name": "LayoutModel",
            "_view_count": null,
            "_view_module": "@jupyter-widgets/base",
            "_view_module_version": "1.2.0",
            "_view_name": "LayoutView",
            "align_content": null,
            "align_items": null,
            "align_self": null,
            "border": null,
            "bottom": null,
            "display": null,
            "flex": null,
            "flex_flow": null,
            "grid_area": null,
            "grid_auto_columns": null,
            "grid_auto_flow": null,
            "grid_auto_rows": null,
            "grid_column": null,
            "grid_gap": null,
            "grid_row": null,
            "grid_template_areas": null,
            "grid_template_columns": null,
            "grid_template_rows": null,
            "height": null,
            "justify_content": null,
            "justify_items": null,
            "left": null,
            "margin": null,
            "max_height": null,
            "max_width": null,
            "min_height": null,
            "min_width": null,
            "object_fit": null,
            "object_position": null,
            "order": null,
            "overflow": null,
            "overflow_x": null,
            "overflow_y": null,
            "padding": null,
            "right": null,
            "top": null,
            "visibility": null,
            "width": null
          }
        },
        "8b0c06b13dd14b95bafd09e821da7ed1": {
          "model_module": "@jupyter-widgets/base",
          "model_name": "LayoutModel",
          "model_module_version": "1.2.0",
          "state": {
            "_model_module": "@jupyter-widgets/base",
            "_model_module_version": "1.2.0",
            "_model_name": "LayoutModel",
            "_view_count": null,
            "_view_module": "@jupyter-widgets/base",
            "_view_module_version": "1.2.0",
            "_view_name": "LayoutView",
            "align_content": null,
            "align_items": null,
            "align_self": null,
            "border": null,
            "bottom": null,
            "display": null,
            "flex": null,
            "flex_flow": null,
            "grid_area": null,
            "grid_auto_columns": null,
            "grid_auto_flow": null,
            "grid_auto_rows": null,
            "grid_column": null,
            "grid_gap": null,
            "grid_row": null,
            "grid_template_areas": null,
            "grid_template_columns": null,
            "grid_template_rows": null,
            "height": null,
            "justify_content": null,
            "justify_items": null,
            "left": null,
            "margin": null,
            "max_height": null,
            "max_width": null,
            "min_height": null,
            "min_width": null,
            "object_fit": null,
            "object_position": null,
            "order": null,
            "overflow": null,
            "overflow_x": null,
            "overflow_y": null,
            "padding": null,
            "right": null,
            "top": null,
            "visibility": null,
            "width": null
          }
        },
        "158b2386438142e3aee81da02baf4e49": {
          "model_module": "@jupyter-widgets/controls",
          "model_name": "DescriptionStyleModel",
          "model_module_version": "1.5.0",
          "state": {
            "_model_module": "@jupyter-widgets/controls",
            "_model_module_version": "1.5.0",
            "_model_name": "DescriptionStyleModel",
            "_view_count": null,
            "_view_module": "@jupyter-widgets/base",
            "_view_module_version": "1.2.0",
            "_view_name": "StyleView",
            "description_width": ""
          }
        },
        "6cfdafe0b5ef45b99b114e38a323743d": {
          "model_module": "@jupyter-widgets/base",
          "model_name": "LayoutModel",
          "model_module_version": "1.2.0",
          "state": {
            "_model_module": "@jupyter-widgets/base",
            "_model_module_version": "1.2.0",
            "_model_name": "LayoutModel",
            "_view_count": null,
            "_view_module": "@jupyter-widgets/base",
            "_view_module_version": "1.2.0",
            "_view_name": "LayoutView",
            "align_content": null,
            "align_items": null,
            "align_self": null,
            "border": null,
            "bottom": null,
            "display": null,
            "flex": null,
            "flex_flow": null,
            "grid_area": null,
            "grid_auto_columns": null,
            "grid_auto_flow": null,
            "grid_auto_rows": null,
            "grid_column": null,
            "grid_gap": null,
            "grid_row": null,
            "grid_template_areas": null,
            "grid_template_columns": null,
            "grid_template_rows": null,
            "height": null,
            "justify_content": null,
            "justify_items": null,
            "left": null,
            "margin": null,
            "max_height": null,
            "max_width": null,
            "min_height": null,
            "min_width": null,
            "object_fit": null,
            "object_position": null,
            "order": null,
            "overflow": null,
            "overflow_x": null,
            "overflow_y": null,
            "padding": null,
            "right": null,
            "top": null,
            "visibility": null,
            "width": "20px"
          }
        },
        "663f5211ab7449bdba1de6dcc564a697": {
          "model_module": "@jupyter-widgets/controls",
          "model_name": "ProgressStyleModel",
          "model_module_version": "1.5.0",
          "state": {
            "_model_module": "@jupyter-widgets/controls",
            "_model_module_version": "1.5.0",
            "_model_name": "ProgressStyleModel",
            "_view_count": null,
            "_view_module": "@jupyter-widgets/base",
            "_view_module_version": "1.2.0",
            "_view_name": "StyleView",
            "bar_color": null,
            "description_width": ""
          }
        },
        "9bb9a51d25264db297e25ba6144de0ff": {
          "model_module": "@jupyter-widgets/base",
          "model_name": "LayoutModel",
          "model_module_version": "1.2.0",
          "state": {
            "_model_module": "@jupyter-widgets/base",
            "_model_module_version": "1.2.0",
            "_model_name": "LayoutModel",
            "_view_count": null,
            "_view_module": "@jupyter-widgets/base",
            "_view_module_version": "1.2.0",
            "_view_name": "LayoutView",
            "align_content": null,
            "align_items": null,
            "align_self": null,
            "border": null,
            "bottom": null,
            "display": null,
            "flex": null,
            "flex_flow": null,
            "grid_area": null,
            "grid_auto_columns": null,
            "grid_auto_flow": null,
            "grid_auto_rows": null,
            "grid_column": null,
            "grid_gap": null,
            "grid_row": null,
            "grid_template_areas": null,
            "grid_template_columns": null,
            "grid_template_rows": null,
            "height": null,
            "justify_content": null,
            "justify_items": null,
            "left": null,
            "margin": null,
            "max_height": null,
            "max_width": null,
            "min_height": null,
            "min_width": null,
            "object_fit": null,
            "object_position": null,
            "order": null,
            "overflow": null,
            "overflow_x": null,
            "overflow_y": null,
            "padding": null,
            "right": null,
            "top": null,
            "visibility": null,
            "width": null
          }
        },
        "41cf1ea7c927404fa643ea0203a6fd65": {
          "model_module": "@jupyter-widgets/controls",
          "model_name": "DescriptionStyleModel",
          "model_module_version": "1.5.0",
          "state": {
            "_model_module": "@jupyter-widgets/controls",
            "_model_module_version": "1.5.0",
            "_model_name": "DescriptionStyleModel",
            "_view_count": null,
            "_view_module": "@jupyter-widgets/base",
            "_view_module_version": "1.2.0",
            "_view_name": "StyleView",
            "description_width": ""
          }
        }
      }
    }
  },
  "nbformat": 4,
  "nbformat_minor": 5
}